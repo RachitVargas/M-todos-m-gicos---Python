{
 "cells": [
  {
   "cell_type": "markdown",
   "metadata": {},
   "source": [
    "# Métodos mágicos con Python\n",
    "# Rachit Vargas"
   ]
  },
  {
   "cell_type": "markdown",
   "metadata": {},
   "source": [
    "#### Método __init__(), __str()__ y len()"
   ]
  },
  {
   "cell_type": "code",
   "execution_count": 18,
   "metadata": {},
   "outputs": [
    {
     "name": "stdout",
     "output_type": "stream",
     "text": [
      "Gerard Pique, Barcelona, Def, Der\n",
      "Philippe Coutinho, Barcelona, Med, Der\n",
      "Lionel Messi, Barcelona, Del, Izq\n",
      "11\n",
      "16\n",
      "11\n"
     ]
    }
   ],
   "source": [
    "class Jugador():\n",
    "    \n",
    "    def __init__(self, nombre, equipo, posicion, pie):\n",
    "        self.nombre = nombre\n",
    "        self.equipo = equipo\n",
    "        self.posicion = posicion\n",
    "        self.pie = pie\n",
    "\n",
    "    def __str__(self):    \n",
    "        return self.nombre + \", \" + self.equipo + \", \" + self.posicion + \", \" + self.pie\n",
    "   \n",
    "    def __len__(self):\n",
    "        return len(self.nombre)-1\n",
    "    \n",
    "defensa = Jugador(\"Gerard Pique\", \"Barcelona\", \"Def\", \"Der\")\n",
    "medio = Jugador(\"Philippe Coutinho\", \"Barcelona\", \"Med\", \"Der\")\n",
    "delantero = Jugador(\"Lionel Messi\", \"Barcelona\", \"Del\", \"Izq\")\n",
    "\n",
    "print(defensa)\n",
    "print(medio)\n",
    "print(delantero)\n",
    "\n",
    "\n",
    "print(len(defensa))\n",
    "print(len(medio))\n",
    "print(len(delantero))\n",
    "\n"
   ]
  },
  {
   "cell_type": "markdown",
   "metadata": {},
   "source": [
    "##### Método add()"
   ]
  },
  {
   "cell_type": "code",
   "execution_count": 13,
   "metadata": {},
   "outputs": [
    {
     "name": "stdout",
     "output_type": "stream",
     "text": [
      "Datos del coche: modelo = AZX-3432 anio = 2019 Marca = Tesla\n",
      "Datos del coche: modelo = QCS-22300 anio = 2020 Marca = BMW\n",
      "Has comprado los coches: Tesla y BMW\n",
      "los anios de los carros son: 2019 y 2020\n",
      "los modelos son: AZX-3432 y QCS-22300\n"
     ]
    }
   ],
   "source": [
    "class Fabrica():\n",
    "    \n",
    "    def __init__(self, marca, anio, modelo):\n",
    "        self.marca = marca\n",
    "        self.anio = anio\n",
    "        self.modelo = modelo\n",
    "        \n",
    "    def anio (self):\n",
    "        return self.anio\n",
    "    \n",
    "    def modelo(self):\n",
    "        return self.modelo\n",
    "    \n",
    "    def descripcion (self):\n",
    "        return \"Datos del coche: modelo = \" + self.modelo + \" anio = \" + str(self.anio) \\\n",
    "            + \" Marca = \" + self.marca \n",
    "    \n",
    "\n",
    "    def __add__(self, other):\n",
    "        return Fabrica('Has comprado los coches: ' + self.marca + \" y \" + other.marca, \\\n",
    "            'los anios de los carros son: ' + str(self.anio) + \" y \" + str(other.anio),\\\n",
    "                \"los modelos son: \" + self.modelo + \" y \" + other.modelo)\n",
    "    \n",
    "\n",
    "compra_1 = Fabrica('Tesla', 2019, 'AZX-3432')\n",
    "compra_2 = Fabrica('BMW', 2020, 'QCS-22300')\n",
    "\n",
    "\n",
    "print(compra_1.descripcion())\n",
    "print(compra_2.descripcion())\n",
    "\n",
    "\n",
    "compra_ambos = compra_1 + compra_2\n",
    "print(compra_ambos.marca)\n",
    "print(compra_ambos.anio)\n",
    "print(compra_ambos.modelo)"
   ]
  },
  {
   "cell_type": "markdown",
   "metadata": {},
   "source": [
    "##### Método eq()"
   ]
  },
  {
   "cell_type": "code",
   "execution_count": 14,
   "metadata": {},
   "outputs": [
    {
     "name": "stdout",
     "output_type": "stream",
     "text": [
      "True\n"
     ]
    }
   ],
   "source": [
    "class Cuentas_Facebook():\n",
    "    \n",
    "    def __init__(self, user, password):\n",
    "        self.user = user\n",
    "        self.password = password\n",
    "    \n",
    "    def __eq__(self, other_account):\n",
    "        return self.Cuentas_Facebook == other_account.Cuentas_Facebook\n",
    "\n",
    "account_1 = (\"Rachit Vargas\", \"awerw-2311xds\")\n",
    "account_2 = (\"Rachit Vargas\", \"awerw-2311xds\")\n",
    "\n",
    "print(account_1 == account_2)"
   ]
  },
  {
   "cell_type": "markdown",
   "metadata": {},
   "source": [
    "##### Método repr()"
   ]
  },
  {
   "cell_type": "code",
   "execution_count": 15,
   "metadata": {},
   "outputs": [
    {
     "name": "stdout",
     "output_type": "stream",
     "text": [
      "'Gerard Pique, Barcelona, Def, Der'\n",
      "'Philippe Coutinho, Barcelona, Med, Der'\n",
      "'Lionel Messi, Barcelona, Del, Izq'\n"
     ]
    }
   ],
   "source": [
    "class Jugador():\n",
    "    \n",
    "    def __init__(self, nombre, equipo, posicion, pie):\n",
    "        self.nombre = nombre\n",
    "        self.equipo = equipo\n",
    "        self.posicion = posicion\n",
    "        self.pie = pie\n",
    "    \n",
    "    def descripcion(self):\n",
    "        return self.nombre + \", \" + self.equipo + \", \" + self.posicion + \", \" \\\n",
    "             + self.pie\n",
    "        \n",
    "    def __repr__(self):\n",
    "        return repr(self.descripcion())\n",
    "\n",
    "\n",
    "defensa = Jugador(\"Gerard Pique\", \"Barcelona\", \"Def\", \"Der\")\n",
    "medio = Jugador(\"Philippe Coutinho\", \"Barcelona\", \"Med\", \"Der\")\n",
    "delantero = Jugador(\"Lionel Messi\", \"Barcelona\", \"Del\", \"Izq\")\n",
    "\n",
    "print(defensa)\n",
    "print(medio)\n",
    "print(delantero)"
   ]
  }
 ],
 "metadata": {
  "kernelspec": {
   "display_name": "Python 3",
   "language": "python",
   "name": "python3"
  },
  "language_info": {
   "codemirror_mode": {
    "name": "ipython",
    "version": 3
   },
   "file_extension": ".py",
   "mimetype": "text/x-python",
   "name": "python",
   "nbconvert_exporter": "python",
   "pygments_lexer": "ipython3",
   "version": "3.8.3"
  }
 },
 "nbformat": 4,
 "nbformat_minor": 4
}
